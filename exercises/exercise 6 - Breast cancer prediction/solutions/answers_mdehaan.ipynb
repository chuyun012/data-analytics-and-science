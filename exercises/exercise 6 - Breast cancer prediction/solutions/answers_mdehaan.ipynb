{
 "cells": [
  {
   "cell_type": "code",
   "execution_count": 1,
   "metadata": {},
   "outputs": [],
   "source": [
    "import pandas as pd\n",
    "\n",
    "df = pd.read_csv('../data/breast_cancer.csv')"
   ]
  },
  {
   "cell_type": "code",
   "execution_count": 3,
   "metadata": {},
   "outputs": [
    {
     "data": {
      "text/plain": [
       "id                          2.400905\n",
       "radius_mean                12.942336\n",
       "texture_mean                7.793482\n",
       "perimeter_mean             13.645278\n",
       "area_mean                  13.235637\n",
       "smoothness_mean            10.877350\n",
       "compactness_mean           16.856146\n",
       "concavity_mean             17.619246\n",
       "concave points_mean        17.132113\n",
       "symmetry_mean              10.804845\n",
       "fractal_dimension_mean      6.889978\n",
       "radius_se                  13.793081\n",
       "texture_se                  3.509877\n",
       "perimeter_se               14.203541\n",
       "area_se                    13.121166\n",
       "smoothness_se               3.644974\n",
       "compactness_se             13.168959\n",
       "concavity_se               11.702046\n",
       "concave points_se          13.394606\n",
       "symmetry_se                 5.186010\n",
       "fractal_dimension_se        9.140594\n",
       "radius_worst               13.675510\n",
       "texture_worst               7.793151\n",
       "perimeter_worst            14.366743\n",
       "area_worst                 13.599470\n",
       "smoothness_worst            9.726669\n",
       "compactness_worst          14.549208\n",
       "concavity_worst            15.510272\n",
       "concave points_worst       16.305858\n",
       "symmetry_worst              9.079699\n",
       "fractal_dimension_worst    10.340654\n",
       "Unnamed: 32                 0.000000\n",
       "dtype: float64"
      ]
     },
     "execution_count": 3,
     "metadata": {},
     "output_type": "execute_result"
    }
   ],
   "source": [
    "df.corr().sum()"
   ]
  }
 ],
 "metadata": {
  "kernelspec": {
   "display_name": "Python 3",
   "language": "python",
   "name": "python3"
  },
  "language_info": {
   "codemirror_mode": {
    "name": "ipython",
    "version": 3
   },
   "file_extension": ".py",
   "mimetype": "text/x-python",
   "name": "python",
   "nbconvert_exporter": "python",
   "pygments_lexer": "ipython3",
   "version": "3.6.5"
  }
 },
 "nbformat": 4,
 "nbformat_minor": 2
}
